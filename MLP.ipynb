{
 "cells": [
  {
   "cell_type": "code",
   "execution_count": 127,
   "metadata": {
    "colab": {},
    "colab_type": "code",
    "id": "kD45KgHydVfV"
   },
   "outputs": [],
   "source": [
    "import numpy as np\n",
    "from progressbar import progressbar\n",
    "from keras.datasets import mnist\n",
    "from keras.utils import to_categorical"
   ]
  },
  {
   "cell_type": "code",
   "execution_count": 128,
   "metadata": {},
   "outputs": [],
   "source": [
    "def load_mnist():\n",
    "    (x_train, y_train), (x_test, y_test) = mnist.load_data()\n",
    "\n",
    "    x_train = x_train.reshape(-1, 784, 1) / 255.\n",
    "    x_test = x_test.reshape(-1, 784, 1) / 255.\n",
    "    y_train = to_categorical(y_train).reshape(-1,10,1)\n",
    "    y_test = to_categorical(y_test).reshape(-1,10,1)\n",
    "    return (x_train, y_train), (x_test, y_test)"
   ]
  },
  {
   "cell_type": "code",
   "execution_count": 129,
   "metadata": {
    "colab": {},
    "colab_type": "code",
    "id": "KeDOnkPGXDTR"
   },
   "outputs": [],
   "source": [
    "def generetor_matrix(rows,cols):\n",
    "    return np.int_(np.random.rand(rows,cols)*10)\n",
    "\n",
    "def add_matrix(m1,m2):\n",
    "    return m1+m2\n",
    "  \n",
    "def subtract_matrix(m1,m2):\n",
    "    return m1-m2\n",
    "\n",
    "def multiply_matrix(m1,m2):\n",
    "    return np.dot(m1,m2)\n",
    "\n",
    "def generetor_matrix_nn(rows,cols):\n",
    "    return (np.random.rand(rows,cols)*2)-1\n",
    "\n",
    "def hadamard(m1,m2):\n",
    "    return m1*m2\n",
    "\n",
    "def escalar_multiply(m1,x):\n",
    "    return m1*x\n",
    "\n",
    "def trasnpose(m1):\n",
    "    return m1.transpose()"
   ]
  },
  {
   "cell_type": "code",
   "execution_count": 130,
   "metadata": {
    "colab": {},
    "colab_type": "code",
    "id": "iaX3cLpgtNgZ"
   },
   "outputs": [],
   "source": [
    "class NN:\n",
    "    def __init__(self,i_nodes,h_nodes,o_nodes):\n",
    "        self.i_nodes = i_nodes\n",
    "        self.h_nodes = h_nodes\n",
    "        self.o_nodes = o_nodes\n",
    "\n",
    "        self.bias_ih = generetor_matrix_nn(self.h_nodes,1)\n",
    "        self.bias_ho = generetor_matrix_nn(self.o_nodes,1)\n",
    "\n",
    "        self.weigths_ih = generetor_matrix_nn(self.h_nodes,self.i_nodes)\n",
    "        self.weigths_ho = generetor_matrix_nn(self.o_nodes,self.h_nodes)\n",
    "\n",
    "        self.learning_rate = 0.01\n",
    "\n",
    "    def signoid(self,x):\n",
    "        return 1/(1+np.exp(-x))\n",
    "  \n",
    "    def dsignoid(self,x):\n",
    "        return( x * (1-x))\n",
    "\n",
    "    def train(self,input_,expected):\n",
    "        #feedforward\n",
    "        hidden = multiply_matrix(self.weigths_ih,input_)\n",
    "        hidden = add_matrix(hidden,self.bias_ih)\n",
    "        hidden = self.signoid(hidden)\n",
    "\n",
    "        output = multiply_matrix(self.weigths_ho,hidden)\n",
    "        output = add_matrix(output,self.bias_ho)\n",
    "        output = self.signoid(output)\n",
    "\n",
    "        #backpropagation\n",
    "\n",
    "        #output to hidden\n",
    "        output_error = subtract_matrix(expected,output)\n",
    "        d_output = self.dsignoid(output)\n",
    "        hidden_t = trasnpose(hidden)\n",
    "\n",
    "        gradient = hadamard(d_output,output_error)\n",
    "        gradient = escalar_multiply(gradient,self.learning_rate)\n",
    "        #ajust Bias 0 to H\n",
    "        self.bias_ho = add_matrix(self.bias_ho,gradient)\n",
    "\n",
    "        weigths_ho_deltas = multiply_matrix(gradient,hidden_t)\n",
    "        self.weigths_ho = add_matrix(self.weigths_ho,weigths_ho_deltas)\n",
    "\n",
    "\n",
    "        #hidden to input\n",
    "        weigths_ho_t = trasnpose(self.weigths_ho)\n",
    "        hidden_error = multiply_matrix(weigths_ho_t,output_error)\n",
    "        d_hidden = self.dsignoid(hidden)\n",
    "        input_t = trasnpose(input_)\n",
    "\n",
    "        gradient_h = hadamard(hidden_error,d_hidden)\n",
    "        gradient_h = escalar_multiply(gradient_h,self.learning_rate)\n",
    "        #ajust Bias H to I\n",
    "        self.bias_ih = add_matrix(self.bias_ih,gradient_h)\n",
    "        weigths_ih_deltas = multiply_matrix(gradient_h,input_t)\n",
    "        self.weigths_ih = add_matrix(self.weigths_ih,weigths_ih_deltas)\n",
    "\n",
    "    def predict(self,input_,expected):\n",
    "        hidden = multiply_matrix(self.weigths_ih,input_)\n",
    "        hidden = add_matrix(hidden,self.bias_ih)\n",
    "        hidden = self.signoid(hidden)\n",
    "\n",
    "        output = multiply_matrix(self.weigths_ho,hidden)\n",
    "        output = add_matrix(output,self.bias_ho)\n",
    "        output = self.signoid(output)\n",
    "        \n",
    "        return output.argmax()\n"
   ]
  },
  {
   "cell_type": "code",
   "execution_count": 131,
   "metadata": {
    "colab": {},
    "colab_type": "code",
    "id": "maILtdpSuCsF"
   },
   "outputs": [],
   "source": [
    "nn = NN(784,400,10)\n",
    "(x_train, y_train), (x_test, y_test) = load_mnist()"
   ]
  },
  {
   "cell_type": "code",
   "execution_count": null,
   "metadata": {
    "colab": {
     "base_uri": "https://localhost:8080/",
     "height": 108
    },
    "colab_type": "code",
    "executionInfo": {
     "elapsed": 16653,
     "status": "ok",
     "timestamp": 1582073355881,
     "user": {
      "displayName": "Ryan Sales UFPI",
      "photoUrl": "",
      "userId": "13938675137084485046"
     },
     "user_tz": 180
    },
    "id": "_luTR96FuHp9",
    "outputId": "27c2170d-1722-4564-8587-d42eb56099ff"
   },
   "outputs": [
    {
     "name": "stderr",
     "output_type": "stream",
     "text": [
      "100% (60000 of 60000) |##################| Elapsed Time: 0:04:06 Time:  0:04:06\n",
      "                                                                               \r"
     ]
    },
    {
     "name": "stdout",
     "output_type": "stream",
     "text": [
      "7 7\n"
     ]
    },
    {
     "name": "stderr",
     "output_type": "stream",
     "text": [
      "100% (60000 of 60000) |##################| Elapsed Time: 0:04:06 Time:  0:04:06\n",
      "  0% (26 of 60000) |                     | Elapsed Time: 0:00:00 ETA:   0:04:29"
     ]
    },
    {
     "name": "stdout",
     "output_type": "stream",
     "text": [
      "7 7\n"
     ]
    },
    {
     "name": "stderr",
     "output_type": "stream",
     "text": [
      " 28% (16959 of 60000) |#####             | Elapsed Time: 0:01:09 ETA:   0:03:13"
     ]
    }
   ],
   "source": [
    "while(1):\n",
    "    for i in progressbar(range(10)):\n",
    "        for j in progressbar(range(len(x_train))):\n",
    "            nn.train(x_train[j],y_train[j])\n",
    "            #nn.train(input_[0],output_[0])\n",
    "        print(nn.predict(x_test[0],y_test[0]),y_test[0].argmax())\n",
    "        "
   ]
  },
  {
   "cell_type": "code",
   "execution_count": null,
   "metadata": {},
   "outputs": [],
   "source": []
  },
  {
   "cell_type": "code",
   "execution_count": null,
   "metadata": {},
   "outputs": [],
   "source": []
  }
 ],
 "metadata": {
  "colab": {
   "authorship_tag": "ABX9TyMmGUt3IgVuW9Snbvl5R0sG",
   "collapsed_sections": [],
   "name": "NN.ipynb",
   "provenance": []
  },
  "kernelspec": {
   "display_name": "Python 3",
   "language": "python",
   "name": "python3"
  },
  "language_info": {
   "codemirror_mode": {
    "name": "ipython",
    "version": 3
   },
   "file_extension": ".py",
   "mimetype": "text/x-python",
   "name": "python",
   "nbconvert_exporter": "python",
   "pygments_lexer": "ipython3",
   "version": "3.7.4"
  }
 },
 "nbformat": 4,
 "nbformat_minor": 4
}
